{
 "cells": [
  {
   "cell_type": "markdown",
   "metadata": {},
   "source": [
    "# Multi-Class Classification"
   ]
  },
  {
   "cell_type": "markdown",
   "metadata": {},
   "source": [
    "## Convolutional Neural Network"
   ]
  },
  {
   "cell_type": "code",
   "execution_count": 0,
   "metadata": {
    "colab": {},
    "colab_type": "code",
    "id": "yvM_3x7YHOxB"
   },
   "outputs": [],
   "source": [
    "# mnist (benchmark) dataset\n",
    "\n",
    "# It is a dataset of handwritten images\n",
    "\n",
    "# http://yann.lecun.com/exdb/mnist/\n",
    "\n",
    "\n",
    "# The MNIST database of handwritten digits, available from this page, has a training set of 60,000 examples, \n",
    "# and a test set of 10,000 examples. It is a subset of a larger set available from NIST. The digits have been\n",
    "# size-normalized and centered in a fixed-size image.\n",
    "\n",
    "# It is a good database for people who want to try learning techniques and pattern recognition methods on real-world \n",
    "# data while spending minimal efforts on preprocessing and formatting.'''\n"
   ]
  },
  {
   "cell_type": "code",
   "execution_count": 0,
   "metadata": {
    "colab": {},
    "colab_type": "code",
    "id": "WE9YhKwAJCqd"
   },
   "outputs": [],
   "source": [
    "!pip install keras"
   ]
  },
  {
   "cell_type": "code",
   "execution_count": 0,
   "metadata": {
    "colab": {},
    "colab_type": "code",
    "id": "FZnxeVgKHj-X"
   },
   "outputs": [],
   "source": [
    "import numpy as np \n",
    "import keras  \n",
    "from keras.datasets import mnist \n",
    "from keras.models import Model \n",
    "from keras.layers import Dense, Input\n",
    "from keras.layers import Conv2D, MaxPooling2D, Dropout, Flatten \n",
    "from keras import backend as k "
   ]
  },
  {
   "cell_type": "code",
   "execution_count": 0,
   "metadata": {
    "colab": {},
    "colab_type": "code",
    "id": "UukaOxZeHT2p"
   },
   "outputs": [],
   "source": [
    "(x_train, y_train), (x_test, y_test) = mnist.load_data() "
   ]
  },
  {
   "cell_type": "code",
   "execution_count": 0,
   "metadata": {
    "colab": {},
    "colab_type": "code",
    "id": "TtssWn98J0nC"
   },
   "outputs": [],
   "source": [
    "# Display the dataset\n",
    "from matplotlib import pyplot\n",
    "print('Train: X=%s, y=%s' % (x_train.shape, y_train.shape))\n",
    "print('Test: X=%s, y=%s' % (x_test.shape, y_test.shape))\n",
    "# plot first few images\n",
    "for i in range(9):\n",
    "\t# define subplot\n",
    "\tpyplot.subplot(330 + 1 + i)\n",
    "\t# plot raw pixel data\n",
    "\tpyplot.imshow(x_train[i], cmap=pyplot.get_cmap('gray'))\n",
    "# show the figure\n",
    "pyplot.show()"
   ]
  },
  {
   "cell_type": "code",
   "execution_count": 0,
   "metadata": {
    "colab": {},
    "colab_type": "code",
    "id": "E5t_8JEl49zT"
   },
   "outputs": [],
   "source": []
  },
  {
   "cell_type": "code",
   "execution_count": 0,
   "metadata": {
    "colab": {},
    "colab_type": "code",
    "id": "CWv81nl6IMns"
   },
   "outputs": [],
   "source": [
    "img_rows, img_cols=28, 28\n",
    "  \n",
    "if k.image_data_format() == 'channels_first': \n",
    "  #reshape dataset to have a single channel\n",
    "   x_train = x_train.reshape(x_train.shape[0], 1, img_rows, img_cols) \n",
    "   x_test = x_test.reshape(x_test.shape[0], 1, img_rows, img_cols) \n",
    "   inpx = (1, img_rows, img_cols) \n",
    "else:\n",
    "  #reshape dataset to have a single channel\n",
    "   x_train = x_train.reshape(x_train.shape[0], img_rows, img_cols, 1) \n",
    "   x_test = x_test.reshape(x_test.shape[0], img_rows, img_cols, 1) \n",
    "   inpx = (img_rows, img_cols, 1)"
   ]
  },
  {
   "cell_type": "code",
   "execution_count": 0,
   "metadata": {
    "colab": {},
    "colab_type": "code",
    "id": "4u5hlLCQ5Cfh"
   },
   "outputs": [],
   "source": [
    "#convert from integers to floats\n",
    "x_train = x_train.astype('float32') \n",
    "x_test = x_test.astype('float32') \n",
    "\n",
    "# Nor. 0 to 1\n",
    "x_train /= 255\n",
    "x_test /= 255"
   ]
  },
  {
   "cell_type": "code",
   "execution_count": 0,
   "metadata": {
    "colab": {},
    "colab_type": "code",
    "id": "iMmSKO7UIOf0"
   },
   "outputs": [],
   "source": [
    "# convert class vectors to binary class matrices  OR one hot encode target values\n",
    "y_train = keras.utils.to_categorical(y_train) \n",
    "y_test = keras.utils.to_categorical(y_test) "
   ]
  },
  {
   "cell_type": "code",
   "execution_count": 0,
   "metadata": {
    "colab": {},
    "colab_type": "code",
    "id": "SNpMufw-IQRE"
   },
   "outputs": [],
   "source": [
    "inpx = Input(shape=inpx) \n",
    "layer1 = Conv2D(32, kernel_size=(3, 3), activation='relu')(inpx) \n",
    "layer2 = Conv2D(64, (3, 3), activation='relu')(layer1) \n",
    "layer3 = MaxPooling2D(pool_size=(3, 3))(layer2) \n",
    "# To prevent overfitting \n",
    "layer4 = Dropout(0.5)(layer3)\n",
    " \n",
    "layer5 = Flatten()(layer4) \n",
    "layer6 = Dense(250, activation='sigmoid')(layer5) \n",
    "layer7 = Dense(10, activation='softmax')(layer6) "
   ]
  },
  {
   "cell_type": "code",
   "execution_count": 0,
   "metadata": {
    "colab": {},
    "colab_type": "code",
    "id": "-CbolaPiIR7E"
   },
   "outputs": [],
   "source": [
    "model = Model([inpx], layer7) \n",
    "model.compile(optimizer=keras.optimizers.Adadelta(), \n",
    "              loss=keras.losses.categorical_crossentropy, \n",
    "              metrics=['accuracy'])\n",
    "\n",
    "model.fit(x_train, y_train, epochs=12, batch_size=500) "
   ]
  },
  {
   "cell_type": "code",
   "execution_count": 0,
   "metadata": {
    "colab": {},
    "colab_type": "code",
    "id": "tweY5aDoIUhU"
   },
   "outputs": [],
   "source": [
    "score = model.evaluate(x_test, y_test, verbose=0) \n",
    "print('loss=', score[0]) \n",
    "print('accuracy=', score[1])\n"
   ]
  },
  {
   "cell_type": "code",
   "execution_count": 0,
   "metadata": {
    "colab": {},
    "colab_type": "code",
    "id": "bk81VxpEIhUD"
   },
   "outputs": [],
   "source": [
    "#sinle Value predication in number\n",
    "predictions = model.predict(x_test)\n",
    "print(np.argmax(np.round(predictions[2])))\n"
   ]
  },
  {
   "cell_type": "code",
   "execution_count": 0,
   "metadata": {
    "colab": {},
    "colab_type": "code",
    "id": "gis9DX7yLQce"
   },
   "outputs": [],
   "source": [
    "#sinle Value predication in graph (plot)\n",
    "import matplotlib.pyplot as plt\n",
    "plt.imshow(x_test[2].reshape(28, 28), cmap = plt.cm.binary)\n",
    "plt.show()\n"
   ]
  },
  {
   "cell_type": "code",
   "execution_count": 0,
   "metadata": {
    "colab": {},
    "colab_type": "code",
    "id": "wZJPq0hoFl-4"
   },
   "outputs": [],
   "source": [
    "-------------End----------------"
   ]
  }
 ],
 "metadata": {
  "accelerator": "GPU",
  "colab": {
   "collapsed_sections": [],
   "name": "Mniset.ipynb",
   "provenance": []
  },
  "kernelspec": {
   "display_name": "Python 3 (ipykernel)",
   "language": "python",
   "name": "python3"
  },
  "language_info": {
   "codemirror_mode": {
    "name": "ipython",
    "version": 3
   },
   "file_extension": ".py",
   "mimetype": "text/x-python",
   "name": "python",
   "nbconvert_exporter": "python",
   "pygments_lexer": "ipython3",
   "version": "3.11.3"
  }
 },
 "nbformat": 4,
 "nbformat_minor": 1
}
